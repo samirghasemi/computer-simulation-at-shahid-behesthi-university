{
 "cells": [
  {
   "cell_type": "code",
   "execution_count": 2,
   "metadata": {
    "collapsed": true,
    "pycharm": {
     "name": "#%%\n"
    }
   },
   "outputs": [],
   "source": [
    "import math\n",
    "import networkx as nx\n",
    "import numpy as np\n",
    "import random\n",
    "import matplotlib.pyplot as plt\n",
    "\n",
    "\n",
    "def simulation(network):\n",
    "    p = 0\n",
    "    my_list = []\n",
    "    my_reduced_list = []\n",
    "\n",
    "    while p < 1:\n",
    "        is_reduced = 0\n",
    "        for j in nx.edges(network):\n",
    "            if random.random() < p:\n",
    "                network.remove_edge(j[0], j[1])\n",
    "\n",
    "        matrix = nx.adjacency_matrix(network).todense()\n",
    "        if np.allclose(matrix, np.tril(matrix)) \\\n",
    "                or np.allclose(matrix, np.triu(matrix)) \\\n",
    "                or np.allclose(matrix, np.diag(matrix)):\n",
    "            is_reduced += 1\n",
    "\n",
    "        my_reduced_list.append(is_reduced)\n",
    "        my_list.append(p)\n",
    "        p += 0.01\n",
    "\n",
    "    return [my_list, my_reduced_list]\n",
    "\n",
    "\n",
    "def plot(p_list, is_reduced_list_p, title):\n",
    "    fig, ax = plt.subplots(figsize=(8, 6))\n",
    "    plt.plot(p_list, is_reduced_list_p)\n",
    "    plt.title(title)\n",
    "    plt.ylabel('irreducibility')\n",
    "    plt.xlabel('Probability')\n",
    "    ax.grid()\n",
    "    plt.savefig('./phase1/1/' + title + '.png')\n",
    "    plt.show()\n",
    "\n",
    "\n",
    "def erdos_renyi_test(number_of_node, probability_of_edge, number_of_simulation):\n",
    "    erdos_network = nx.erdos_renyi_graph(number_of_node, probability_of_edge)\n",
    "    [p_list, is_reduced_list_sum] = simulation(erdos_network)\n",
    "    for i in range(1, number_of_simulation):\n",
    "        erdos_network = nx.erdos_renyi_graph(number_of_node, probability_of_edge)\n",
    "        [p_list, is_reduced_list] = simulation(erdos_network)\n",
    "        is_reduced_list_sum = np.add(is_reduced_list, is_reduced_list_sum)\n",
    "    plot(p_list, 1 - (is_reduced_list_sum / number_of_simulation), 'Erdos_Renyi')\n",
    "\n",
    "\n",
    "def watts_strogatz_test(number_of_node, number_of_edge, probability_of_edge, number_of_simulation):\n",
    "    watts_network = nx.watts_strogatz_graph(number_of_node, number_of_edge, probability_of_edge)\n",
    "    [p_list, is_reduced_list_sum] = simulation(watts_network)\n",
    "    for i in range(1, number_of_simulation):\n",
    "        watts_network = nx.watts_strogatz_graph(number_of_node, number_of_edge, probability_of_edge)\n",
    "        [p_list, is_reduced_list] = simulation(watts_network)\n",
    "        is_reduced_list_sum = np.add(is_reduced_list, is_reduced_list_sum)\n",
    "    plot(p_list, 1 - (is_reduced_list_sum / number_of_simulation), 'Watts-Strogatz')\n",
    "\n",
    "\n",
    "def barabasi_albert_test(number_of_node, number_of_edge, number_of_simulation):\n",
    "    barabasi_network = nx.barabasi_albert_graph(number_of_node, number_of_edge)\n",
    "    [p_list, is_reduced_list_sum] = simulation(barabasi_network)\n",
    "\n",
    "    for i in range(1, number_of_simulation):\n",
    "        barabasi_network = nx.barabasi_albert_graph(number_of_node, number_of_edge)\n",
    "        [p_list, is_reduced_list] = simulation(barabasi_network)\n",
    "        is_reduced_list_sum = np.add(is_reduced_list, is_reduced_list_sum)\n",
    "\n",
    "    plot(p_list, 1 - (is_reduced_list_sum / number_of_simulation), 'Barabasi-Albert')\n",
    "\n",
    "def calculation_eq3(network):\n",
    "    # print(\"calculation\")\n",
    "    p = 0\n",
    "    p_list = []\n",
    "    res_list = []\n",
    "\n",
    "    while p < 1:\n",
    "        p_list.append(p)\n",
    "        prob_e = eq3(network, p)\n",
    "        res_list.append(prob_e)\n",
    "        p += 0.01\n",
    "        # while_end\n",
    "\n",
    "    return [p_list, res_list]\n",
    "\n",
    "\n",
    "def eq3(network, p):\n",
    "    # print('eq3 ', p)\n",
    "    p_ki = 0\n",
    "    for i in nx.degree(network):\n",
    "        p_ki += p ** i[1]\n",
    "\n",
    "    prob = -(1 - p) * p_ki\n",
    "    prob_e = math.e ** prob\n",
    "\n",
    "    # print(prob_e)\n",
    "    return prob_e\n",
    "\n",
    "\n",
    "def plot_irreducibility(my_list, out_list, title):\n",
    "    fig, ax = plt.subplots(figsize=(8, 6))\n",
    "    plt.plot(my_list, out_list)\n",
    "    plt.title(title + ' network(irreducibility)')\n",
    "    plt.ylabel('irreducibility')\n",
    "    plt.xlabel('probability')\n",
    "    ax.grid()\n",
    "    plt.savefig('phase1/2/3/'+title+'.png')\n",
    "    plt.show()\n",
    "\n",
    "\n",
    "def calculation_eq6(network):\n",
    "    # print(\"calculation\")\n",
    "    p = 0\n",
    "    p_list = []\n",
    "    res_list = []\n",
    "\n",
    "    while p < 1:\n",
    "        p_list.append(p)\n",
    "        out_g = eq6(network, p)\n",
    "        res_list.append(1 - out_g)\n",
    "        p += 0.01\n",
    "        # while_end\n",
    "\n",
    "    return [p_list, res_list]\n",
    "\n",
    "\n",
    "def eq6(network, p):\n",
    "    print('eq6 ', p)\n",
    "    out_g = 0\n",
    "    for j in range(nx.number_of_nodes(network)):\n",
    "        cut = 0\n",
    "\n",
    "        for n in list(nx.all_node_cuts(network)):\n",
    "            if len(n) == j:\n",
    "                cut += 1\n",
    "\n",
    "        out_g += cut * (p ** j) * ((1 - p) ** (nx.number_of_nodes(network) - j))\n",
    "\n",
    "    # print(out_g)\n",
    "    return out_g\n",
    "\n",
    "\n",
    "def plot_reliability(my_list, out_list, title):\n",
    "    fig, ax = plt.subplots(figsize=(8, 6))\n",
    "    plt.plot(my_list, out_list)\n",
    "    plt.title(title + ' network(reliability)')\n",
    "    plt.ylabel('reliability')\n",
    "    plt.xlabel('probability')\n",
    "    ax.grid()\n",
    "    plt.savefig('phase1/2/6/'+title+'.png')\n",
    "    plt.show()\n"
   ]
  },
  {
   "cell_type": "code",
   "execution_count": null,
   "outputs": [],
   "source": [
    "#init network\n",
    "number_of_nodes = 20\n",
    "p_graph = 0.2\n",
    "deg = 5\n",
    "number_of_simulations = 1000"
   ],
   "metadata": {
    "collapsed": false,
    "pycharm": {
     "name": "#%%\n"
    }
   }
  },
  {
   "cell_type": "code",
   "execution_count": 3,
   "outputs": [
    {
     "name": "stderr",
     "output_type": "stream",
     "text": [
      "C:\\Users\\samir\\AppData\\Local\\Temp\\ipykernel_1604\\1780809288.py:19: FutureWarning: adjacency_matrix will return a scipy.sparse array instead of a matrix in Networkx 3.0.\n",
      "  matrix = nx.adjacency_matrix(network).todense()\n",
      "C:\\Users\\samir\\AppData\\Local\\Temp\\ipykernel_1604\\1780809288.py:19: FutureWarning: adjacency_matrix will return a scipy.sparse array instead of a matrix in Networkx 3.0.\n",
      "  matrix = nx.adjacency_matrix(network).todense()\n"
     ]
    },
    {
     "data": {
      "text/plain": "<Figure size 576x432 with 1 Axes>",
      "image/png": "[encoded data removed]"
     },
     "metadata": {
      "needs_background": "light"
     },
     "output_type": "display_data"
    }
   ],
   "source": [
    "watts_strogatz_test(number_of_nodes, deg, p_graph, number_of_simulations)"
   ],
   "metadata": {
    "collapsed": false,
    "pycharm": {
     "name": "#%%\n"
    }
   }
  },
  {
   "cell_type": "code",
   "execution_count": 6,
   "outputs": [],
   "source": [
    "watts_network = nx.watts_strogatz_graph(number_of_nodes, deg, p_graph)"
   ],
   "metadata": {
    "collapsed": false,
    "pycharm": {
     "name": "#%%\n"
    }
   }
  },
  {
   "cell_type": "code",
   "execution_count": 5,
   "outputs": [
    {
     "data": {
      "text/plain": "<Figure size 576x432 with 1 Axes>",
      "image/png": "[encoded data removed]"
     },
     "metadata": {
      "needs_background": "light"
     },
     "output_type": "display_data"
    }
   ],
   "source": [
    "[e_list, eq3_list] = calculation_eq3(watts_network)\n",
    "plot_irreducibility(e_list, eq3_list, 'Watts-Strogatz')"
   ],
   "metadata": {
    "collapsed": false,
    "pycharm": {
     "name": "#%%\n"
    }
   }
  },
  {
   "cell_type": "code",
   "execution_count": 7,
   "outputs": [
    {
     "name": "stdout",
     "output_type": "stream",
     "text": [
      "eq6  0\n"
     ]
    },
    {
     "ename": "KeyboardInterrupt",
     "evalue": "",
     "output_type": "error",
     "traceback": [
      "\u001B[1;31m---------------------------------------------------------------------------\u001B[0m",
      "\u001B[1;31mKeyboardInterrupt\u001B[0m                         Traceback (most recent call last)",
      "Input \u001B[1;32mIn [7]\u001B[0m, in \u001B[0;36m<cell line: 1>\u001B[1;34m()\u001B[0m\n\u001B[1;32m----> 1\u001B[0m [e_list, eq6_list] \u001B[38;5;241m=\u001B[39m \u001B[43mcalculation_eq6\u001B[49m\u001B[43m(\u001B[49m\u001B[43mwatts_network\u001B[49m\u001B[43m)\u001B[49m\n\u001B[0;32m      2\u001B[0m plot_reliability(e_list, eq6_list, \u001B[38;5;124m'\u001B[39m\u001B[38;5;124mWatts-Strogatz\u001B[39m\u001B[38;5;124m'\u001B[39m)\n",
      "Input \u001B[1;32mIn [2]\u001B[0m, in \u001B[0;36mcalculation_eq6\u001B[1;34m(network)\u001B[0m\n\u001B[0;32m    120\u001B[0m \u001B[38;5;28;01mwhile\u001B[39;00m p \u001B[38;5;241m<\u001B[39m \u001B[38;5;241m1\u001B[39m:\n\u001B[0;32m    121\u001B[0m     p_list\u001B[38;5;241m.\u001B[39mappend(p)\n\u001B[1;32m--> 122\u001B[0m     out_g \u001B[38;5;241m=\u001B[39m \u001B[43meq6\u001B[49m\u001B[43m(\u001B[49m\u001B[43mnetwork\u001B[49m\u001B[43m,\u001B[49m\u001B[43m \u001B[49m\u001B[43mp\u001B[49m\u001B[43m)\u001B[49m\n\u001B[0;32m    123\u001B[0m     res_list\u001B[38;5;241m.\u001B[39mappend(\u001B[38;5;241m1\u001B[39m \u001B[38;5;241m-\u001B[39m out_g)\n\u001B[0;32m    124\u001B[0m     p \u001B[38;5;241m+\u001B[39m\u001B[38;5;241m=\u001B[39m \u001B[38;5;241m0.01\u001B[39m\n",
      "Input \u001B[1;32mIn [2]\u001B[0m, in \u001B[0;36meq6\u001B[1;34m(network, p)\u001B[0m\n\u001B[0;32m    133\u001B[0m \u001B[38;5;28;01mfor\u001B[39;00m j \u001B[38;5;129;01min\u001B[39;00m \u001B[38;5;28mrange\u001B[39m(nx\u001B[38;5;241m.\u001B[39mnumber_of_nodes(network)):\n\u001B[0;32m    134\u001B[0m     cut \u001B[38;5;241m=\u001B[39m \u001B[38;5;241m0\u001B[39m\n\u001B[1;32m--> 136\u001B[0m     \u001B[38;5;28;01mfor\u001B[39;00m n \u001B[38;5;129;01min\u001B[39;00m \u001B[38;5;28;43mlist\u001B[39;49m\u001B[43m(\u001B[49m\u001B[43mnx\u001B[49m\u001B[38;5;241;43m.\u001B[39;49m\u001B[43mall_node_cuts\u001B[49m\u001B[43m(\u001B[49m\u001B[43mnetwork\u001B[49m\u001B[43m)\u001B[49m\u001B[43m)\u001B[49m:\n\u001B[0;32m    137\u001B[0m         \u001B[38;5;28;01mif\u001B[39;00m \u001B[38;5;28mlen\u001B[39m(n) \u001B[38;5;241m==\u001B[39m j:\n\u001B[0;32m    138\u001B[0m             cut \u001B[38;5;241m+\u001B[39m\u001B[38;5;241m=\u001B[39m \u001B[38;5;241m1\u001B[39m\n",
      "File \u001B[1;32mC:\\Python310\\lib\\site-packages\\networkx\\algorithms\\connectivity\\kcutsets.py:177\u001B[0m, in \u001B[0;36mall_node_cuts\u001B[1;34m(G, k, flow_func)\u001B[0m\n\u001B[0;32m    175\u001B[0m S \u001B[38;5;241m=\u001B[39m \u001B[38;5;28mset\u001B[39m()\n\u001B[0;32m    176\u001B[0m \u001B[38;5;28;01mfor\u001B[39;00m scc \u001B[38;5;129;01min\u001B[39;00m antichain:\n\u001B[1;32m--> 177\u001B[0m     \u001B[43mS\u001B[49m\u001B[38;5;241;43m.\u001B[39;49m\u001B[43mupdate\u001B[49m\u001B[43m(\u001B[49m\u001B[43minv_cmap\u001B[49m\u001B[43m[\u001B[49m\u001B[43mscc\u001B[49m\u001B[43m]\u001B[49m\u001B[43m)\u001B[49m\n\u001B[0;32m    178\u001B[0m S_ancestors \u001B[38;5;241m=\u001B[39m \u001B[38;5;28mset\u001B[39m()\n\u001B[0;32m    179\u001B[0m \u001B[38;5;28;01mfor\u001B[39;00m n \u001B[38;5;129;01min\u001B[39;00m S:\n",
      "\u001B[1;31mKeyboardInterrupt\u001B[0m: "
     ]
    }
   ],
   "source": [
    "[e_list, eq6_list] = calculation_eq6(watts_network)\n",
    "plot_reliability(e_list, eq6_list, 'Watts-Strogatz')"
   ],
   "metadata": {
    "collapsed": false,
    "pycharm": {
     "name": "#%%\n"
    }
   }
  },
  {
   "cell_type": "markdown",
   "source": [],
   "metadata": {
    "collapsed": false,
    "pycharm": {
     "name": "#%% md\n"
    }
   }
  }
 ],
 "metadata": {
  "kernelspec": {
   "display_name": "Python 3",
   "language": "python",
   "name": "python3"
  },
  "language_info": {
   "codemirror_mode": {
    "name": "ipython",
    "version": 2
   },
   "file_extension": ".py",
   "mimetype": "text/x-python",
   "name": "python",
   "nbconvert_exporter": "python",
   "pygments_lexer": "ipython2",
   "version": "2.7.6"
  }
 },
 "nbformat": 4,
 "nbformat_minor": 0
}